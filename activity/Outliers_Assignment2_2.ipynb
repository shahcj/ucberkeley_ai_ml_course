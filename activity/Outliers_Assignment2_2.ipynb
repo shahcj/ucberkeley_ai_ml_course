{
 "cells": [
  {
   "cell_type": "markdown",
   "metadata": {
    "deletable": false,
    "editable": false,
    "nbgrader": {
     "cell_type": "markdown",
     "checksum": "3ffd1d854826bd79a6e74596d3c4868b",
     "grade": false,
     "grade_id": "cell-1087582e116fd58d",
     "locked": true,
     "schema_version": 3,
     "solution": false
    }
   },
   "source": [
    "## Required Assignment 2.2: Measures of Center and Spread\n",
    "**Expected Time: 60 Minutes**\n",
    "\n",
    "**Total Points: 20**\n",
    "\n",
    "Measures of central tendency for datasets are typically mean, median, mode, variance, and standard deviation. We will explore the mode in later modules. This assignment focuses on using pandas to compute numerical summaries of data. You will load in a dataset and compute the mean, median, variance, and standard deviation of numeric features in the data. You will also examine the spread of the data using quartiles and the interquartile range, also identifying outliers using the  1.5×𝐼𝑄𝑅  rule.\n",
    "\n",
    "\n",
    "## Index:\n",
    "\n",
    "- [Problem 1](#Problem-1:-Load-the-Data)\n",
    "- [Problem 2](#Problem-2:-Base-Salary-Distribution-Mean)\n",
    "- [Problem 3](#Problem-3:-Base-Salary-Distribution-Median)\n",
    "- [Problem 4](#Problem-4:-Determining-Quartiles)\n",
    "- [Problem 5](#Problem-5:-Interquartile-Range)\n",
    "- [Problem 6](#Problem-6:-Rule-for-Outliers)\n",
    "- [Problem 7](#Problem-7:-Dropping-Outliers)\n",
    "- [Problem 8](#Finding-the-Mean-with-no-Outliers)\n",
    "- [Problem 9]()\n",
    "- [Problem 10](#Standard-Deviation-with-`numpy`)\n",
    "- [Problem 11](#Standard-Deviation-with-`pandas`)\n",
    "- [Problem 12]()\n",
    "- [Problem 13](#Measure-of-Center)"
   ]
  },
  {
   "cell_type": "code",
   "execution_count": 2,
   "metadata": {
    "deletable": false,
    "editable": false,
    "nbgrader": {
     "cell_type": "code",
     "checksum": "b775827ae11f9d288abb7e66959ad57f",
     "grade": false,
     "grade_id": "cell-57a8bb6419472979",
     "locked": true,
     "schema_version": 3,
     "solution": false
    }
   },
   "outputs": [],
   "source": [
    "import pandas as pd\n",
    "import matplotlib.pyplot as plt\n",
    "import numpy as np"
   ]
  },
  {
   "cell_type": "markdown",
   "metadata": {
    "deletable": false,
    "editable": false,
    "nbgrader": {
     "cell_type": "markdown",
     "checksum": "f7d6569c6c7ba8c080da926350f7eb0c",
     "grade": false,
     "grade_id": "cell-4f553efc8f6f1594",
     "locked": true,
     "schema_version": 3,
     "solution": false
    }
   },
   "source": [
    "### The Data\n",
    "\n",
    "\n",
    "\n",
    "The dataset for this assignment comes from New York City's Open Data and contains information about the citywide payroll data.  Below, you are to load the data from a `.csv` file.  "
   ]
  },
  {
   "cell_type": "markdown",
   "metadata": {
    "deletable": false,
    "editable": false,
    "nbgrader": {
     "cell_type": "markdown",
     "checksum": "9e93e9c3669801c0db677d8ded514d05",
     "grade": false,
     "grade_id": "cell-e3db3a4e7a649c16",
     "locked": true,
     "schema_version": 3,
     "solution": false
    }
   },
   "source": [
    "[Back to top](#Index:) \n",
    "\n",
    "### Problem 1:  Load the Data\n",
    "\n",
    "**1 Point**\n",
    "\n",
    "Below, load the data file located in the `data` folder named `nyc_salaries.csv`.  Assign your DataFrame to `nyc_salary_data`."
   ]
  },
  {
   "cell_type": "code",
   "execution_count": 5,
   "metadata": {
    "deletable": false,
    "nbgrader": {
     "cell_type": "code",
     "checksum": "2a468619f9c29efbbe56b2f2583b71cc",
     "grade": false,
     "grade_id": "cell-6291888fc0a2de17",
     "locked": false,
     "schema_version": 3,
     "solution": true
    }
   },
   "outputs": [],
   "source": [
    "###GRADED\n",
    "\n",
    "nyc_salary_data = ''\n",
    "\n",
    "# YOUR CODE HERE\n",
    "nyc_salary_data = pd.read_csv(\"data/nyc_salaries.csv\")"
   ]
  },
  {
   "cell_type": "code",
   "execution_count": null,
   "metadata": {
    "deletable": false,
    "editable": false,
    "nbgrader": {
     "cell_type": "code",
     "checksum": "18b09c8c414541d5af2cefdce95ece2d",
     "grade": true,
     "grade_id": "cell-73d11f659ef346c5",
     "locked": true,
     "points": 1,
     "schema_version": 3,
     "solution": false
    }
   },
   "outputs": [],
   "source": []
  },
  {
   "cell_type": "markdown",
   "metadata": {
    "deletable": false,
    "editable": false,
    "nbgrader": {
     "cell_type": "markdown",
     "checksum": "ff36538f6fa79283661fc76356f6f82d",
     "grade": false,
     "grade_id": "cell-b4c16300003a1941",
     "locked": true,
     "schema_version": 3,
     "solution": false
    }
   },
   "source": [
    "### Examine the Data\n",
    "\n",
    "Now that the data is loaded, information about the datatypes and missing values, as well as a quick look at the first five rows of the data, can be retrieved using the `.info()` and `.head()` methods."
   ]
  },
  {
   "cell_type": "code",
   "execution_count": 6,
   "metadata": {
    "deletable": false,
    "editable": false,
    "nbgrader": {
     "cell_type": "code",
     "checksum": "acdee37129065302049a6373221c1709",
     "grade": false,
     "grade_id": "cell-89375439b0f16365",
     "locked": true,
     "schema_version": 3,
     "solution": false
    }
   },
   "outputs": [
    {
     "name": "stdout",
     "output_type": "stream",
     "text": [
      "<class 'pandas.core.frame.DataFrame'>\n",
      "RangeIndex: 590210 entries, 0 to 590209\n",
      "Data columns (total 17 columns):\n",
      " #   Column                      Non-Null Count   Dtype  \n",
      "---  ------                      --------------   -----  \n",
      " 0   fiscal_year                 590210 non-null  int64  \n",
      " 1   payroll_number              590210 non-null  int64  \n",
      " 2   agency_name                 590210 non-null  object \n",
      " 3   last_name                   589838 non-null  object \n",
      " 4   first_name                  589835 non-null  object \n",
      " 5   agency_start_date           590147 non-null  object \n",
      " 6   work_location_borough       590207 non-null  object \n",
      " 7   title_description           590204 non-null  object \n",
      " 8   leave_status_as_of_july_31  590210 non-null  object \n",
      " 9   base_salary                 590210 non-null  float64\n",
      " 10  pay_basis                   590210 non-null  object \n",
      " 11  regular_hours               590210 non-null  float64\n",
      " 12  regular_gross_paid          590210 non-null  float64\n",
      " 13  ot_hours                    590210 non-null  float64\n",
      " 14  total_ot_paid               590210 non-null  float64\n",
      " 15  total_other_pay             590210 non-null  float64\n",
      " 16  mid_init                    349608 non-null  object \n",
      "dtypes: float64(6), int64(2), object(9)\n",
      "memory usage: 76.6+ MB\n"
     ]
    }
   ],
   "source": [
    "nyc_salary_data.info()"
   ]
  },
  {
   "cell_type": "code",
   "execution_count": 7,
   "metadata": {
    "deletable": false,
    "editable": false,
    "nbgrader": {
     "cell_type": "code",
     "checksum": "76507c4345e573cb7ff92011c71e3e3e",
     "grade": false,
     "grade_id": "cell-307db90cf5d8795f",
     "locked": true,
     "schema_version": 3,
     "solution": false
    }
   },
   "outputs": [
    {
     "data": {
      "text/html": [
       "<div>\n",
       "<style scoped>\n",
       "    .dataframe tbody tr th:only-of-type {\n",
       "        vertical-align: middle;\n",
       "    }\n",
       "\n",
       "    .dataframe tbody tr th {\n",
       "        vertical-align: top;\n",
       "    }\n",
       "\n",
       "    .dataframe thead th {\n",
       "        text-align: right;\n",
       "    }\n",
       "</style>\n",
       "<table border=\"1\" class=\"dataframe\">\n",
       "  <thead>\n",
       "    <tr style=\"text-align: right;\">\n",
       "      <th></th>\n",
       "      <th>fiscal_year</th>\n",
       "      <th>payroll_number</th>\n",
       "      <th>agency_name</th>\n",
       "      <th>last_name</th>\n",
       "      <th>first_name</th>\n",
       "      <th>agency_start_date</th>\n",
       "      <th>work_location_borough</th>\n",
       "      <th>title_description</th>\n",
       "      <th>leave_status_as_of_july_31</th>\n",
       "      <th>base_salary</th>\n",
       "      <th>pay_basis</th>\n",
       "      <th>regular_hours</th>\n",
       "      <th>regular_gross_paid</th>\n",
       "      <th>ot_hours</th>\n",
       "      <th>total_ot_paid</th>\n",
       "      <th>total_other_pay</th>\n",
       "      <th>mid_init</th>\n",
       "    </tr>\n",
       "  </thead>\n",
       "  <tbody>\n",
       "    <tr>\n",
       "      <th>0</th>\n",
       "      <td>2020</td>\n",
       "      <td>17</td>\n",
       "      <td>OFFICE OF EMERGENCY MANAGEMENT</td>\n",
       "      <td>BEREZIN</td>\n",
       "      <td>MIKHAIL</td>\n",
       "      <td>2015-08-10T00:00:00.000</td>\n",
       "      <td>BROOKLYN</td>\n",
       "      <td>EMERGENCY PREPAREDNESS MANAGER</td>\n",
       "      <td>ACTIVE</td>\n",
       "      <td>86005.0</td>\n",
       "      <td>per Annum</td>\n",
       "      <td>1820.0</td>\n",
       "      <td>84698.21</td>\n",
       "      <td>0.0</td>\n",
       "      <td>0.0</td>\n",
       "      <td>0.0</td>\n",
       "      <td>NaN</td>\n",
       "    </tr>\n",
       "    <tr>\n",
       "      <th>1</th>\n",
       "      <td>2020</td>\n",
       "      <td>17</td>\n",
       "      <td>OFFICE OF EMERGENCY MANAGEMENT</td>\n",
       "      <td>GEAGER</td>\n",
       "      <td>VERONICA</td>\n",
       "      <td>2016-09-12T00:00:00.000</td>\n",
       "      <td>BROOKLYN</td>\n",
       "      <td>EMERGENCY PREPAREDNESS MANAGER</td>\n",
       "      <td>ACTIVE</td>\n",
       "      <td>86005.0</td>\n",
       "      <td>per Annum</td>\n",
       "      <td>1820.0</td>\n",
       "      <td>84698.21</td>\n",
       "      <td>0.0</td>\n",
       "      <td>0.0</td>\n",
       "      <td>0.0</td>\n",
       "      <td>M</td>\n",
       "    </tr>\n",
       "    <tr>\n",
       "      <th>2</th>\n",
       "      <td>2020</td>\n",
       "      <td>17</td>\n",
       "      <td>OFFICE OF EMERGENCY MANAGEMENT</td>\n",
       "      <td>RAMANI</td>\n",
       "      <td>SHRADDHA</td>\n",
       "      <td>2016-02-22T00:00:00.000</td>\n",
       "      <td>BROOKLYN</td>\n",
       "      <td>EMERGENCY PREPAREDNESS MANAGER</td>\n",
       "      <td>ACTIVE</td>\n",
       "      <td>86005.0</td>\n",
       "      <td>per Annum</td>\n",
       "      <td>1820.0</td>\n",
       "      <td>84698.21</td>\n",
       "      <td>0.0</td>\n",
       "      <td>0.0</td>\n",
       "      <td>0.0</td>\n",
       "      <td>NaN</td>\n",
       "    </tr>\n",
       "    <tr>\n",
       "      <th>3</th>\n",
       "      <td>2020</td>\n",
       "      <td>17</td>\n",
       "      <td>OFFICE OF EMERGENCY MANAGEMENT</td>\n",
       "      <td>ROTTA</td>\n",
       "      <td>JONATHAN</td>\n",
       "      <td>2013-09-16T00:00:00.000</td>\n",
       "      <td>BROOKLYN</td>\n",
       "      <td>EMERGENCY PREPAREDNESS MANAGER</td>\n",
       "      <td>ACTIVE</td>\n",
       "      <td>86005.0</td>\n",
       "      <td>per Annum</td>\n",
       "      <td>1820.0</td>\n",
       "      <td>84698.21</td>\n",
       "      <td>0.0</td>\n",
       "      <td>0.0</td>\n",
       "      <td>0.0</td>\n",
       "      <td>D</td>\n",
       "    </tr>\n",
       "    <tr>\n",
       "      <th>4</th>\n",
       "      <td>2020</td>\n",
       "      <td>17</td>\n",
       "      <td>OFFICE OF EMERGENCY MANAGEMENT</td>\n",
       "      <td>WILSON II</td>\n",
       "      <td>ROBERT</td>\n",
       "      <td>2018-04-30T00:00:00.000</td>\n",
       "      <td>BROOKLYN</td>\n",
       "      <td>EMERGENCY PREPAREDNESS MANAGER</td>\n",
       "      <td>ACTIVE</td>\n",
       "      <td>86005.0</td>\n",
       "      <td>per Annum</td>\n",
       "      <td>1820.0</td>\n",
       "      <td>84698.21</td>\n",
       "      <td>0.0</td>\n",
       "      <td>0.0</td>\n",
       "      <td>0.0</td>\n",
       "      <td>P</td>\n",
       "    </tr>\n",
       "  </tbody>\n",
       "</table>\n",
       "</div>"
      ],
      "text/plain": [
       "   fiscal_year  payroll_number                     agency_name  last_name  \\\n",
       "0         2020              17  OFFICE OF EMERGENCY MANAGEMENT    BEREZIN   \n",
       "1         2020              17  OFFICE OF EMERGENCY MANAGEMENT     GEAGER   \n",
       "2         2020              17  OFFICE OF EMERGENCY MANAGEMENT     RAMANI   \n",
       "3         2020              17  OFFICE OF EMERGENCY MANAGEMENT      ROTTA   \n",
       "4         2020              17  OFFICE OF EMERGENCY MANAGEMENT  WILSON II   \n",
       "\n",
       "  first_name        agency_start_date work_location_borough  \\\n",
       "0    MIKHAIL  2015-08-10T00:00:00.000              BROOKLYN   \n",
       "1   VERONICA  2016-09-12T00:00:00.000              BROOKLYN   \n",
       "2   SHRADDHA  2016-02-22T00:00:00.000              BROOKLYN   \n",
       "3   JONATHAN  2013-09-16T00:00:00.000              BROOKLYN   \n",
       "4     ROBERT  2018-04-30T00:00:00.000              BROOKLYN   \n",
       "\n",
       "                title_description leave_status_as_of_july_31  base_salary  \\\n",
       "0  EMERGENCY PREPAREDNESS MANAGER                     ACTIVE      86005.0   \n",
       "1  EMERGENCY PREPAREDNESS MANAGER                     ACTIVE      86005.0   \n",
       "2  EMERGENCY PREPAREDNESS MANAGER                     ACTIVE      86005.0   \n",
       "3  EMERGENCY PREPAREDNESS MANAGER                     ACTIVE      86005.0   \n",
       "4  EMERGENCY PREPAREDNESS MANAGER                     ACTIVE      86005.0   \n",
       "\n",
       "   pay_basis  regular_hours  regular_gross_paid  ot_hours  total_ot_paid  \\\n",
       "0  per Annum         1820.0            84698.21       0.0            0.0   \n",
       "1  per Annum         1820.0            84698.21       0.0            0.0   \n",
       "2  per Annum         1820.0            84698.21       0.0            0.0   \n",
       "3  per Annum         1820.0            84698.21       0.0            0.0   \n",
       "4  per Annum         1820.0            84698.21       0.0            0.0   \n",
       "\n",
       "   total_other_pay mid_init  \n",
       "0              0.0      NaN  \n",
       "1              0.0        M  \n",
       "2              0.0      NaN  \n",
       "3              0.0        D  \n",
       "4              0.0        P  "
      ]
     },
     "execution_count": 7,
     "metadata": {},
     "output_type": "execute_result"
    }
   ],
   "source": [
    "nyc_salary_data.head()"
   ]
  },
  {
   "cell_type": "markdown",
   "metadata": {
    "deletable": false,
    "editable": false,
    "nbgrader": {
     "cell_type": "markdown",
     "checksum": "6d4cbbef85b12f28b9930e422e51d979",
     "grade": false,
     "grade_id": "cell-b2c3403bad0b7770",
     "locked": true,
     "schema_version": 3,
     "solution": false
    }
   },
   "source": [
    "[Back to top](#Index:) \n",
    "\n",
    "### Problem 2: Base Salary Distribution Mean\n",
    "\n",
    "**1 Point**\n",
    "\n",
    "Use pandas to determine the mean of the `base_salary` column.  Assign your answer to the variable `ans_2` below."
   ]
  },
  {
   "cell_type": "code",
   "execution_count": 8,
   "metadata": {
    "deletable": false,
    "editable": false,
    "nbgrader": {
     "cell_type": "code",
     "checksum": "e68222ae2d5420979fc46e7d2d4eb06f",
     "grade": false,
     "grade_id": "cell-da1352c3bec4bf1f",
     "locked": true,
     "schema_version": 3,
     "solution": false
    }
   },
   "outputs": [
    {
     "data": {
      "text/plain": [
       "<Axes: >"
      ]
     },
     "execution_count": 8,
     "metadata": {},
     "output_type": "execute_result"
    },
    {
     "data": {
      "image/png": "[encoded data removed]",
      "text/plain": [
       "<Figure size 640x480 with 1 Axes>"
      ]
     },
     "metadata": {},
     "output_type": "display_data"
    }
   ],
   "source": [
    "nyc_salary_data['base_salary'].hist()"
   ]
  },
  {
   "cell_type": "code",
   "execution_count": 18,
   "metadata": {
    "deletable": false,
    "nbgrader": {
     "cell_type": "code",
     "checksum": "3e1a243393f81d869d80bbc00b388c34",
     "grade": false,
     "grade_id": "cell-cd78182db2201756",
     "locked": false,
     "schema_version": 3,
     "solution": true
    }
   },
   "outputs": [
    {
     "name": "stdout",
     "output_type": "stream",
     "text": [
      "46719.46439313127\n"
     ]
    }
   ],
   "source": [
    "###GRADED\n",
    "\n",
    "ans_2 = ''\n",
    "\n",
    "# YOUR CODE HERE\n",
    "ans_2 = nyc_salary_data[\"base_salary\"].mean()\n",
    "print(ans_2)"
   ]
  },
  {
   "cell_type": "code",
   "execution_count": null,
   "metadata": {
    "deletable": false,
    "editable": false,
    "nbgrader": {
     "cell_type": "code",
     "checksum": "9a640b2be2cab8658078a56d55a30d27",
     "grade": true,
     "grade_id": "cell-021c7662ba093b0b",
     "locked": true,
     "points": 1,
     "schema_version": 3,
     "solution": false
    }
   },
   "outputs": [],
   "source": []
  },
  {
   "cell_type": "markdown",
   "metadata": {
    "deletable": false,
    "editable": false,
    "nbgrader": {
     "cell_type": "markdown",
     "checksum": "f6f4f820244f678ff851e8dbaa73f02b",
     "grade": false,
     "grade_id": "cell-72a754ce83ee3b3b",
     "locked": true,
     "schema_version": 3,
     "solution": false
    }
   },
   "source": [
    "[Back to top](#Index:) \n",
    "\n",
    "### Problem 3: Base Salary Distribution Median\n",
    "\n",
    "\n",
    "**1 Point**\n",
    "\n",
    "\n",
    "Use the pandas `.median()` method to find the median of the `base_salary` column. Assign your answer to the variable `ans_3` below."
   ]
  },
  {
   "cell_type": "code",
   "execution_count": 19,
   "metadata": {
    "deletable": false,
    "nbgrader": {
     "cell_type": "code",
     "checksum": "7116ba86b3a29b69b0d0e74ebf76943b",
     "grade": false,
     "grade_id": "cell-0851cc6cc89a3fba",
     "locked": false,
     "schema_version": 3,
     "solution": true
    }
   },
   "outputs": [
    {
     "name": "stdout",
     "output_type": "stream",
     "text": [
      "44930.0\n"
     ]
    }
   ],
   "source": [
    "###GRADED\n",
    "\n",
    "ans_3 = ''\n",
    "\n",
    "# YOUR CODE HERE\n",
    "ans_3 = nyc_salary_data[\"base_salary\"].median()\n",
    "print(ans_3)"
   ]
  },
  {
   "cell_type": "code",
   "execution_count": null,
   "metadata": {
    "deletable": false,
    "editable": false,
    "nbgrader": {
     "cell_type": "code",
     "checksum": "7c40cd67efc1ffee60fb43b149244866",
     "grade": true,
     "grade_id": "cell-db0b2a794549b1cb",
     "locked": true,
     "points": 1,
     "schema_version": 3,
     "solution": false
    }
   },
   "outputs": [],
   "source": []
  },
  {
   "cell_type": "markdown",
   "metadata": {
    "deletable": false,
    "editable": false,
    "nbgrader": {
     "cell_type": "markdown",
     "checksum": "eb96ab788566da3e3b880fac26bc00f1",
     "grade": false,
     "grade_id": "cell-46bcd666fce27157",
     "locked": true,
     "schema_version": 3,
     "solution": false
    }
   },
   "source": [
    "[Back to top](#Index:) \n",
    "\n",
    "### Problem 4: Determining Quartiles\n",
    "\n",
    "**2 Points**\n",
    "\n",
    "The first quartile in our data is found by arranging the data from least to greatest and determining the median of the lower half of the data.  \n",
    "\n",
    "The third quartile is the median of the upper half of the data.  \n",
    "\n",
    "Pandas has a `.quantile()` method that accepts an argument as a single value or list of values of quantiles to compute.  \n",
    "\n",
    "- Use the `.quantile()` method  with argument equal to `.25` to determine the first quartile of the `base_salary` column. Assign your answer to the variable `first_quartile`.\n",
    "- Use the `.quantile()` method  with argument equal to `.75` to determine the third quartile of the `base_salary` column. Assign your answer to the variable `third_quartile`.\n",
    "\n"
   ]
  },
  {
   "cell_type": "code",
   "execution_count": 20,
   "metadata": {
    "deletable": false,
    "nbgrader": {
     "cell_type": "code",
     "checksum": "3fc911df1061d3fa19bfe2796ba49011",
     "grade": false,
     "grade_id": "cell-a5e27f0519a15a18",
     "locked": false,
     "schema_version": 3,
     "solution": true
    }
   },
   "outputs": [
    {
     "name": "stdout",
     "output_type": "stream",
     "text": [
      "33.18\n",
      "85292.0\n"
     ]
    }
   ],
   "source": [
    "###GRADED\n",
    "\n",
    "first_quartile = ''\n",
    "third_quartile = ''\n",
    "\n",
    "# YOUR CODE HERE\n",
    "first_quartile = nyc_salary_data[\"base_salary\"].quantile(.25)\n",
    "print(first_quartile)\n",
    "third_quartile = nyc_salary_data[\"base_salary\"].quantile(.75)\n",
    "print(third_quartile)\n"
   ]
  },
  {
   "cell_type": "code",
   "execution_count": null,
   "metadata": {
    "deletable": false,
    "editable": false,
    "nbgrader": {
     "cell_type": "code",
     "checksum": "2315d1245ed57847a59ecbded695b4fc",
     "grade": true,
     "grade_id": "cell-4545ee47429c4ac0",
     "locked": true,
     "points": 2,
     "schema_version": 3,
     "solution": false
    }
   },
   "outputs": [],
   "source": []
  },
  {
   "cell_type": "markdown",
   "metadata": {
    "deletable": false,
    "editable": false,
    "nbgrader": {
     "cell_type": "markdown",
     "checksum": "73d18fc097b2fb788e8a535d40de7622",
     "grade": false,
     "grade_id": "cell-00ad71de2eb65fbb",
     "locked": true,
     "schema_version": 3,
     "solution": false
    }
   },
   "source": [
    "[Back to top](#Index:) \n",
    "\n",
    "### Problem 5: Interquartile Range\n",
    "\n",
    "**1 Point**\n",
    "\n",
    "The Interquartile Range (IQR) is the difference between the third and first quartile:\n",
    "\n",
    "$$\\text{IQR} = Q_3 - Q_1$$\n",
    "\n",
    "\n",
    "Use your work from Problem 4 to determine the IQR for the `base_salary` column and assign it to the `iqr` variable below."
   ]
  },
  {
   "cell_type": "code",
   "execution_count": 21,
   "metadata": {
    "deletable": false,
    "nbgrader": {
     "cell_type": "code",
     "checksum": "e3e0e35c411e088babd5ba6c961308ed",
     "grade": false,
     "grade_id": "cell-f282ff23c443a932",
     "locked": false,
     "schema_version": 3,
     "solution": true
    }
   },
   "outputs": [
    {
     "name": "stdout",
     "output_type": "stream",
     "text": [
      "85258.82\n"
     ]
    }
   ],
   "source": [
    "###GRADED\n",
    "\n",
    "iqr = ''\n",
    "\n",
    "# YOUR CODE HERE\n",
    "iqr = third_quartile - first_quartile\n",
    "print(iqr)"
   ]
  },
  {
   "cell_type": "code",
   "execution_count": null,
   "metadata": {
    "deletable": false,
    "editable": false,
    "nbgrader": {
     "cell_type": "code",
     "checksum": "beac8210160abb5c7d4480f393f37a39",
     "grade": true,
     "grade_id": "cell-72b48ffc6a4d8b0f",
     "locked": true,
     "points": 1,
     "schema_version": 3,
     "solution": false
    }
   },
   "outputs": [],
   "source": []
  },
  {
   "cell_type": "markdown",
   "metadata": {
    "deletable": false,
    "editable": false,
    "nbgrader": {
     "cell_type": "markdown",
     "checksum": "56ceaa4619800171689849f71b6fa482",
     "grade": false,
     "grade_id": "cell-6595db2df62a8894",
     "locked": true,
     "schema_version": 3,
     "solution": false
    }
   },
   "source": [
    "[Back to top](#Index:) \n",
    "\n",
    "### Problem 6: Rule for Outliers\n",
    "\n",
    "**2 Points**\n",
    "\n",
    "We can use the IQR to determine boundaries for outliers. As a rule of thumb, any values greater than the third quartile plus $1.5 \\times IQR$ or any values that are less than the first quartile by $1.5 \\times IQR$  are considered outliers.  \n",
    "\n",
    "Calculate the lower and upper boundaries for outliers for the `base_salary` column using the IQR rule above.\n",
    "\n",
    "Assign your solutions to the variables `lower` and `upper` below."
   ]
  },
  {
   "cell_type": "code",
   "execution_count": 24,
   "metadata": {
    "deletable": false,
    "nbgrader": {
     "cell_type": "code",
     "checksum": "0c6bf76298fd1f60dd86883a689aef45",
     "grade": false,
     "grade_id": "cell-d4483aa3bbe2f696",
     "locked": false,
     "schema_version": 3,
     "solution": true
    }
   },
   "outputs": [
    {
     "name": "stdout",
     "output_type": "stream",
     "text": [
      "-127855.05000000002\n",
      "213180.23\n"
     ]
    }
   ],
   "source": [
    "###GRADED\n",
    "\n",
    "lower = ''\n",
    "upper = ''\n",
    "\n",
    "# YOUR CODE HERE\n",
    "lower = first_quartile - 1.5 * iqr\n",
    "print(lower)\n",
    "upper = third_quartile + 1.5 * iqr\n",
    "print(upper)"
   ]
  },
  {
   "cell_type": "code",
   "execution_count": null,
   "metadata": {
    "deletable": false,
    "editable": false,
    "nbgrader": {
     "cell_type": "code",
     "checksum": "cf090ff8aef183ef63e768e901091bbd",
     "grade": true,
     "grade_id": "cell-8d9d8d56d9e50b1c",
     "locked": true,
     "points": 2,
     "schema_version": 3,
     "solution": false
    }
   },
   "outputs": [],
   "source": []
  },
  {
   "cell_type": "markdown",
   "metadata": {
    "deletable": false,
    "editable": false,
    "nbgrader": {
     "cell_type": "markdown",
     "checksum": "4ccdac27c75b8cf57a46eab2dc9f1d1c",
     "grade": false,
     "grade_id": "cell-1085da663296e047",
     "locked": true,
     "schema_version": 3,
     "solution": false
    }
   },
   "source": [
    "[Back to top](#Index:) \n",
    "\n",
    "### Problem 7: Dropping Outliers\n",
    "\n",
    "\n",
    "**1 Point**\n",
    "\n",
    "\n",
    "With the upper and lower boundaries in place, drop the outliers from the dataset.  \n",
    "\n",
    "Use the pandas `loc[]` method to limit the data in the `base_salary` column based on the outliers bounds using the $1.5 \\times IQR$ rule.  \n",
    "\n",
    "Assign the resulting DataFrame to `salaries_no_outlier` below."
   ]
  },
  {
   "cell_type": "code",
   "execution_count": 33,
   "metadata": {
    "deletable": false,
    "nbgrader": {
     "cell_type": "code",
     "checksum": "d8edc85a9070553e8e65bb96a429d430",
     "grade": false,
     "grade_id": "cell-04ad44c7e6a67427",
     "locked": false,
     "schema_version": 3,
     "solution": true
    }
   },
   "outputs": [
    {
     "name": "stdout",
     "output_type": "stream",
     "text": [
      "        fiscal_year  payroll_number                     agency_name  \\\n",
      "0              2020              17  OFFICE OF EMERGENCY MANAGEMENT   \n",
      "1              2020              17  OFFICE OF EMERGENCY MANAGEMENT   \n",
      "2              2020              17  OFFICE OF EMERGENCY MANAGEMENT   \n",
      "3              2020              17  OFFICE OF EMERGENCY MANAGEMENT   \n",
      "4              2020              17  OFFICE OF EMERGENCY MANAGEMENT   \n",
      "...             ...             ...                             ...   \n",
      "590205         2020             747  DEPT OF ED PER SESSION TEACHER   \n",
      "590206         2020             747  DEPT OF ED PER SESSION TEACHER   \n",
      "590207         2020             747  DEPT OF ED PER SESSION TEACHER   \n",
      "590208         2020             747  DEPT OF ED PER SESSION TEACHER   \n",
      "590209         2020             747  DEPT OF ED PER SESSION TEACHER   \n",
      "\n",
      "        last_name first_name        agency_start_date work_location_borough  \\\n",
      "0         BEREZIN    MIKHAIL  2015-08-10T00:00:00.000              BROOKLYN   \n",
      "1          GEAGER   VERONICA  2016-09-12T00:00:00.000              BROOKLYN   \n",
      "2          RAMANI   SHRADDHA  2016-02-22T00:00:00.000              BROOKLYN   \n",
      "3           ROTTA   JONATHAN  2013-09-16T00:00:00.000              BROOKLYN   \n",
      "4       WILSON II     ROBERT  2018-04-30T00:00:00.000              BROOKLYN   \n",
      "...           ...        ...                      ...                   ...   \n",
      "590205       RUGG      ISAAC  2016-11-21T00:00:00.000             MANHATTAN   \n",
      "590206      SMITH    MICHAEL  1993-03-04T00:00:00.000             MANHATTAN   \n",
      "590207  KOWALCZYK      MEGAN  2014-12-05T00:00:00.000             MANHATTAN   \n",
      "590208     MUGGEO       DAWN  1997-09-02T00:00:00.000             MANHATTAN   \n",
      "590209      CABAN     CHERYL  2006-08-31T00:00:00.000             MANHATTAN   \n",
      "\n",
      "                     title_description leave_status_as_of_july_31  \\\n",
      "0       EMERGENCY PREPAREDNESS MANAGER                     ACTIVE   \n",
      "1       EMERGENCY PREPAREDNESS MANAGER                     ACTIVE   \n",
      "2       EMERGENCY PREPAREDNESS MANAGER                     ACTIVE   \n",
      "3       EMERGENCY PREPAREDNESS MANAGER                     ACTIVE   \n",
      "4       EMERGENCY PREPAREDNESS MANAGER                     ACTIVE   \n",
      "...                                ...                        ...   \n",
      "590205            TEACHER- PER SESSION                     CEASED   \n",
      "590206            TEACHER- PER SESSION                     CEASED   \n",
      "590207            TEACHER- PER SESSION                     CEASED   \n",
      "590208            TEACHER- PER SESSION                     CEASED   \n",
      "590209            TEACHER- PER SESSION                     CEASED   \n",
      "\n",
      "        base_salary  pay_basis  regular_hours  regular_gross_paid  ot_hours  \\\n",
      "0          86005.00  per Annum         1820.0            84698.21       0.0   \n",
      "1          86005.00  per Annum         1820.0            84698.21       0.0   \n",
      "2          86005.00  per Annum         1820.0            84698.21       0.0   \n",
      "3          86005.00  per Annum         1820.0            84698.21       0.0   \n",
      "4          86005.00  per Annum         1820.0            84698.21       0.0   \n",
      "...             ...        ...            ...                 ...       ...   \n",
      "590205        33.18    per Day            0.0                0.00       0.0   \n",
      "590206        33.18    per Day            0.0                0.00       0.0   \n",
      "590207        33.18    per Day            0.0                0.00       0.0   \n",
      "590208        33.18    per Day            0.0                0.00       0.0   \n",
      "590209        33.18    per Day            0.0                0.00       0.0   \n",
      "\n",
      "        total_ot_paid  total_other_pay mid_init  \n",
      "0                 0.0             0.00      NaN  \n",
      "1                 0.0             0.00        M  \n",
      "2                 0.0             0.00      NaN  \n",
      "3                 0.0             0.00        D  \n",
      "4                 0.0             0.00        P  \n",
      "...               ...              ...      ...  \n",
      "590205            0.0             0.62      NaN  \n",
      "590206            0.0             0.62        A  \n",
      "590207            0.0             0.61      NaN  \n",
      "590208            0.0             0.61        M  \n",
      "590209            0.0             0.60        M  \n",
      "\n",
      "[589728 rows x 17 columns]\n"
     ]
    }
   ],
   "source": [
    "###GRADED\n",
    "\n",
    "salaries_no_outlier = ''\n",
    "\n",
    "# YOUR CODE HERE\n",
    "salaries_no_outlier = nyc_salary_data.loc[(nyc_salary_data['base_salary']>lower) & (nyc_salary_data['base_salary']<upper)]\n",
    "print(salaries_no_outlier)"
   ]
  },
  {
   "cell_type": "code",
   "execution_count": null,
   "metadata": {
    "deletable": false,
    "editable": false,
    "nbgrader": {
     "cell_type": "code",
     "checksum": "e7c7e350847cda8370d73f7276622d67",
     "grade": true,
     "grade_id": "cell-662b72b4625742d3",
     "locked": true,
     "points": 1,
     "schema_version": 3,
     "solution": false
    }
   },
   "outputs": [],
   "source": []
  },
  {
   "cell_type": "markdown",
   "metadata": {
    "deletable": false,
    "editable": false,
    "nbgrader": {
     "cell_type": "markdown",
     "checksum": "7e27048b308ce5565f0e96687c79eb6e",
     "grade": false,
     "grade_id": "cell-90cc908f40a87441",
     "locked": true,
     "schema_version": 3,
     "solution": false
    }
   },
   "source": [
    "[Back to top](#Index:) \n",
    "\n",
    "### Problem 8: Finding the Mean with no Outliers\n",
    "\n",
    "**1 Point**\n",
    "\n",
    "Now that the outliers have been removed, use the function `mean()` on the column `base_salary` of `salaries_no_outlier` to find the mean of your data without outliers.  \n",
    "\n",
    "Assign your answer to `mean_no_outliers` below."
   ]
  },
  {
   "cell_type": "code",
   "execution_count": 26,
   "metadata": {
    "deletable": false,
    "nbgrader": {
     "cell_type": "code",
     "checksum": "5e55a1dec5a732ddd24a3ea9d7ad7193",
     "grade": false,
     "grade_id": "cell-3e40439d3f97b5e1",
     "locked": false,
     "schema_version": 3,
     "solution": true
    }
   },
   "outputs": [
    {
     "name": "stdout",
     "output_type": "stream",
     "text": [
      "46568.13546421399\n"
     ]
    }
   ],
   "source": [
    "###GRADED\n",
    "\n",
    "mean_no_outliers = ''\n",
    "\n",
    "# YOUR CODE HERE\n",
    "mean_no_outliers = salaries_no_outlier[\"base_salary\"].mean()\n",
    "print(mean_no_outliers)"
   ]
  },
  {
   "cell_type": "code",
   "execution_count": null,
   "metadata": {
    "deletable": false,
    "editable": false,
    "nbgrader": {
     "cell_type": "code",
     "checksum": "d80a6bc8792cc5917f69e5b5aab5d0ef",
     "grade": true,
     "grade_id": "cell-1ced8f8030307f68",
     "locked": true,
     "points": 1,
     "schema_version": 3,
     "solution": false
    }
   },
   "outputs": [],
   "source": []
  },
  {
   "cell_type": "markdown",
   "metadata": {
    "deletable": false,
    "editable": false,
    "nbgrader": {
     "cell_type": "markdown",
     "checksum": "0c1eca5120501beb9f02a203fb56ff3d",
     "grade": false,
     "grade_id": "cell-0ea498148d875ba5",
     "locked": true,
     "schema_version": 3,
     "solution": false
    }
   },
   "source": [
    "[Back to top](#Index:) \n",
    "\n",
    "### Problem 9: Finding the Median with no Outliers\n",
    "\n",
    "**2 Points**\n",
    "\n",
    "Use the function `median()` on the column `base_salary` of `salaries_no_outlier` to find the median of your data without outliers.  \n",
    "\n",
    "Assign your solution to the variable `median_no_outliers` below."
   ]
  },
  {
   "cell_type": "code",
   "execution_count": 27,
   "metadata": {
    "deletable": false,
    "nbgrader": {
     "cell_type": "code",
     "checksum": "57b1ea2cc8b30c3d5402857a8bbd0831",
     "grade": false,
     "grade_id": "cell-baac95078eee6981",
     "locked": false,
     "schema_version": 3,
     "solution": true
    }
   },
   "outputs": [
    {
     "name": "stdout",
     "output_type": "stream",
     "text": [
      "44930.0\n"
     ]
    }
   ],
   "source": [
    "###GRADED\n",
    "\n",
    "median_no_outliers = ''\n",
    "\n",
    "# YOUR CODE HERE\n",
    "median_no_outliers = salaries_no_outlier[\"base_salary\"].median()\n",
    "print(median_no_outliers)"
   ]
  },
  {
   "cell_type": "code",
   "execution_count": null,
   "metadata": {
    "deletable": false,
    "editable": false,
    "nbgrader": {
     "cell_type": "code",
     "checksum": "2b6cebc88c46c6ac33d42094d61e244b",
     "grade": true,
     "grade_id": "cell-44be113cb3469259",
     "locked": true,
     "points": 2,
     "schema_version": 3,
     "solution": false
    }
   },
   "outputs": [],
   "source": []
  },
  {
   "cell_type": "markdown",
   "metadata": {
    "deletable": false,
    "editable": false,
    "nbgrader": {
     "cell_type": "markdown",
     "checksum": "a4220102dfd99ae0c61ec33ff0b18234",
     "grade": false,
     "grade_id": "cell-292754f7d6cf5c3b",
     "locked": true,
     "schema_version": 3,
     "solution": false
    }
   },
   "source": [
    "[Back to top](#Index:) \n",
    "\n",
    "### Problem 10: Standard Deviation with `numpy`\n",
    "\n",
    "**2 Points**\n",
    "\n",
    "\n",
    "An alternative measure for the spread of a dataset to the IQR is the **standard deviation**.  \n",
    "\n",
    "Both pandas and NumPy have functions for computing the standard deviation. However, they have different assumptions about the data.  \n",
    "\n",
    "- Use the  `np.std()` method to determine the standard deviation of the `base_salary` column of `nyc_salary_data` to compute the standard deviation on the entire dataset.  Assign your result to the variable `std_numpy_outliers` .\n",
    "\n",
    "- Use the  `np.std()` method to determine the standard deviation of the `base_salary` column of `salaries_no_outlier` to compute the standard deviation on the entire dataset.  Assign your result to the variable `std_numpy_no_outliers` .\n",
    "\n"
   ]
  },
  {
   "cell_type": "code",
   "execution_count": 34,
   "metadata": {
    "deletable": false,
    "nbgrader": {
     "cell_type": "code",
     "checksum": "f0f601fb041556237b6c7c69e08235ee",
     "grade": false,
     "grade_id": "cell-0dc0a6af67b36a7e",
     "locked": false,
     "schema_version": 3,
     "solution": true
    }
   },
   "outputs": [
    {
     "name": "stdout",
     "output_type": "stream",
     "text": [
      "45026.96354833032\n",
      "44730.38262461151\n"
     ]
    }
   ],
   "source": [
    "###GRADED\n",
    "\n",
    "std_numpy_outliers = ''\n",
    "std_numpy_no_outliers = ''\n",
    "\n",
    "# YOUR CODE HERE\n",
    "std_numpy_outliers = np.std(nyc_salary_data['base_salary'])\n",
    "print(std_numpy_outliers)\n",
    "std_numpy_no_outliers = np.std(salaries_no_outlier['base_salary'])\n",
    "print(std_numpy_no_outliers)"
   ]
  },
  {
   "cell_type": "code",
   "execution_count": null,
   "metadata": {
    "deletable": false,
    "editable": false,
    "nbgrader": {
     "cell_type": "code",
     "checksum": "11cc144bc7cf4d0baed2445ec91897f3",
     "grade": true,
     "grade_id": "cell-1ee20e9b21ae7f57",
     "locked": true,
     "points": 2,
     "schema_version": 3,
     "solution": false
    }
   },
   "outputs": [],
   "source": []
  },
  {
   "cell_type": "markdown",
   "metadata": {
    "deletable": false,
    "editable": false,
    "nbgrader": {
     "cell_type": "markdown",
     "checksum": "1e4a204d0784e738cb9c0af0421ba9b2",
     "grade": false,
     "grade_id": "cell-12476fd3906786d0",
     "locked": true,
     "schema_version": 3,
     "solution": false
    }
   },
   "source": [
    "[Back to top](#Index:) \n",
    "\n",
    "### Problem 11: Standard Deviation with `pandas`\n",
    "\n",
    "**2 Points**\n",
    "\n",
    "\n",
    "\n",
    "In the next exercise, you will use pandas to determine the standard deviation of the `base_salary` column.  \n",
    "\n",
    "- Use the  `std()` pandas method to determine the standard deviation of the `base_salary` column of `nyc_salary_data` to compute the standard deviation on the entire dataset.  Assign your result to the variable `std_pandas_outliers` .\n",
    "\n",
    "- Use the  `std()` pandas method to determine the standard deviation of the `base_salary` column of `salaries_no_outlier` to compute the standard deviation on the entire dataset.  Assign your result to the variable `std_pandas_no_outliers` .\n",
    "\n"
   ]
  },
  {
   "cell_type": "code",
   "execution_count": 36,
   "metadata": {
    "deletable": false,
    "nbgrader": {
     "cell_type": "code",
     "checksum": "ab3fbc56165bd2b5e92feba68bd1c373",
     "grade": false,
     "grade_id": "cell-83987103bba54493",
     "locked": false,
     "schema_version": 3,
     "solution": true
    }
   },
   "outputs": [
    {
     "name": "stdout",
     "output_type": "stream",
     "text": [
      "45027.00169324549\n",
      "44730.420549247545\n"
     ]
    }
   ],
   "source": [
    "###GRADED\n",
    "\n",
    "std_pandas_outliers = ''\n",
    "std_pandas_no_outliers = ''\n",
    "\n",
    "# YOUR CODE HERE\n",
    "std_pandas_outliers = nyc_salary_data['base_salary'].std()\n",
    "print(std_pandas_outliers)\n",
    "std_pandas_no_outliers = salaries_no_outlier['base_salary'].std()\n",
    "print(std_pandas_no_outliers)"
   ]
  },
  {
   "cell_type": "code",
   "execution_count": null,
   "metadata": {
    "deletable": false,
    "editable": false,
    "nbgrader": {
     "cell_type": "code",
     "checksum": "93e396064d304e83aeba840da4b8dce4",
     "grade": true,
     "grade_id": "cell-4e5d959f773a99c6",
     "locked": true,
     "points": 2,
     "schema_version": 3,
     "solution": false
    }
   },
   "outputs": [],
   "source": []
  },
  {
   "cell_type": "markdown",
   "metadata": {
    "deletable": false,
    "editable": false,
    "nbgrader": {
     "cell_type": "markdown",
     "checksum": "97674db220a56b8c44befbf0bd413e07",
     "grade": false,
     "grade_id": "cell-52d70c1c68b13d51",
     "locked": true,
     "schema_version": 3,
     "solution": false
    }
   },
   "source": [
    "### Why are these different?\n",
    "\n",
    "Pandas and NumPy make different assumptions about the data, which is why we receive slightly different results.  This involves the default degree of freedom argument in the functions.  From the numpy docs we have:\n",
    "\n",
    "```\n",
    "ddof: int, optional\n",
    "Means Delta Degrees of Freedom. The divisor used in calculations is N - ddof, where N represents the number of elements. By default, ddof is zero.\n",
    "```\n",
    "\n",
    "and from pandas we find:\n",
    "\n",
    "```\n",
    "ddof: int, default 1\n",
    "Delta Degrees of Freedom. The divisor used in calculations is N - ddof, where N represents the number of elements.\n",
    "```\n",
    "\n",
    "The main reason for the different assumptions is motivated by the fact that all the deviations from the mean will add to zero.  This means we would always know the last deviation if we know the previous $n-1$.  Only $n-1$ are able to vary freely so the average is determined by dividing the total by $n-1$.  In practice the values won't differ greatly, it is important to recognize that there are some different assumptions however.  "
   ]
  },
  {
   "cell_type": "markdown",
   "metadata": {
    "deletable": false,
    "editable": false,
    "nbgrader": {
     "cell_type": "markdown",
     "checksum": "ef52d369cca0a3073cb58d3a24855d42",
     "grade": false,
     "grade_id": "cell-a89b308024b267a4",
     "locked": true,
     "schema_version": 3,
     "solution": false
    }
   },
   "source": [
    "[Back to top](#Index:) \n",
    "\n",
    "### Problem 12: Calculating the Mode\n",
    "\n",
    "**2 Points**\n",
    "\n",
    "Determine the mode of the `nyc_salary_data` DataFrame and assign the result to `df_mode`.\n",
    "\n"
   ]
  },
  {
   "cell_type": "code",
   "execution_count": 37,
   "metadata": {
    "deletable": false,
    "nbgrader": {
     "cell_type": "code",
     "checksum": "c23322831d16e37fae50fac9c94a04cd",
     "grade": false,
     "grade_id": "cell-0b01ca058cffe2d3",
     "locked": false,
     "schema_version": 3,
     "solution": true
    }
   },
   "outputs": [
    {
     "name": "stdout",
     "output_type": "stream",
     "text": [
      "   fiscal_year  payroll_number             agency_name  last_name first_name  \\\n",
      "0         2020             742  DEPT OF ED PEDAGOGICAL  RODRIGUEZ    MICHAEL   \n",
      "\n",
      "         agency_start_date work_location_borough     title_description  \\\n",
      "0  2010-01-01T00:00:00.000             MANHATTAN  TEACHER- PER SESSION   \n",
      "\n",
      "  leave_status_as_of_july_31  base_salary  pay_basis  regular_hours  \\\n",
      "0                     ACTIVE        33.18  per Annum            0.0   \n",
      "\n",
      "   regular_gross_paid  ot_hours  total_ot_paid  total_other_pay mid_init  \n",
      "0                 0.0       0.0            0.0              0.0        A  \n"
     ]
    }
   ],
   "source": [
    "###GRADED\n",
    "\n",
    "df_mode = ''\n",
    "\n",
    "\n",
    "# YOUR CODE HERE\n",
    "df_mode = nyc_salary_data.mode()\n",
    "\n",
    "#df_mode\n",
    "print(df_mode)"
   ]
  },
  {
   "cell_type": "code",
   "execution_count": null,
   "metadata": {
    "deletable": false,
    "editable": false,
    "nbgrader": {
     "cell_type": "code",
     "checksum": "0a727e9d18768f7b692417a2e8e9093f",
     "grade": true,
     "grade_id": "cell-ecdd1454c491a262",
     "locked": true,
     "points": 2,
     "schema_version": 3,
     "solution": false
    }
   },
   "outputs": [],
   "source": []
  },
  {
   "cell_type": "markdown",
   "metadata": {
    "deletable": false,
    "editable": false,
    "nbgrader": {
     "cell_type": "markdown",
     "checksum": "48e54f336344a5767914cb06bc9a5a10",
     "grade": false,
     "grade_id": "cell-5ed6a1941c009934",
     "locked": true,
     "schema_version": 3,
     "solution": false
    }
   },
   "source": [
    "### A Second Small Example\n",
    "\n",
    "The data below relates to salmon smolts (young salmon) and the reflectance of their skin as a measure for readiness for migration."
   ]
  },
  {
   "cell_type": "code",
   "execution_count": 38,
   "metadata": {
    "deletable": false,
    "editable": false,
    "nbgrader": {
     "cell_type": "code",
     "checksum": "3990de9393d28ef2e8c980bd99eddf5a",
     "grade": false,
     "grade_id": "cell-30a95ce8ab2f4916",
     "locked": true,
     "schema_version": 3,
     "solution": false
    }
   },
   "outputs": [],
   "source": [
    "smolt = pd.read_csv('data/smolts.csv', index_col=  0)"
   ]
  },
  {
   "cell_type": "code",
   "execution_count": 39,
   "metadata": {
    "deletable": false,
    "editable": false,
    "nbgrader": {
     "cell_type": "code",
     "checksum": "ce649cdd889a0ae92a8265ef76c554f9",
     "grade": false,
     "grade_id": "cell-816863c823592a27",
     "locked": true,
     "schema_version": 3,
     "solution": false
    }
   },
   "outputs": [
    {
     "data": {
      "text/html": [
       "<div>\n",
       "<style scoped>\n",
       "    .dataframe tbody tr th:only-of-type {\n",
       "        vertical-align: middle;\n",
       "    }\n",
       "\n",
       "    .dataframe tbody tr th {\n",
       "        vertical-align: top;\n",
       "    }\n",
       "\n",
       "    .dataframe thead th {\n",
       "        text-align: right;\n",
       "    }\n",
       "</style>\n",
       "<table border=\"1\" class=\"dataframe\">\n",
       "  <thead>\n",
       "    <tr style=\"text-align: right;\">\n",
       "      <th></th>\n",
       "      <th>Reflectance</th>\n",
       "    </tr>\n",
       "    <tr>\n",
       "      <th>ID</th>\n",
       "      <th></th>\n",
       "    </tr>\n",
       "  </thead>\n",
       "  <tbody>\n",
       "    <tr>\n",
       "      <th>1</th>\n",
       "      <td>57.62747</td>\n",
       "    </tr>\n",
       "    <tr>\n",
       "      <th>2</th>\n",
       "      <td>54.83248</td>\n",
       "    </tr>\n",
       "    <tr>\n",
       "      <th>3</th>\n",
       "      <td>63.44216</td>\n",
       "    </tr>\n",
       "    <tr>\n",
       "      <th>4</th>\n",
       "      <td>57.01707</td>\n",
       "    </tr>\n",
       "    <tr>\n",
       "      <th>5</th>\n",
       "      <td>54.71893</td>\n",
       "    </tr>\n",
       "  </tbody>\n",
       "</table>\n",
       "</div>"
      ],
      "text/plain": [
       "    Reflectance\n",
       "ID             \n",
       "1      57.62747\n",
       "2      54.83248\n",
       "3      63.44216\n",
       "4      57.01707\n",
       "5      54.71893"
      ]
     },
     "execution_count": 39,
     "metadata": {},
     "output_type": "execute_result"
    }
   ],
   "source": [
    "smolt.head()"
   ]
  },
  {
   "cell_type": "markdown",
   "metadata": {
    "deletable": false,
    "editable": false,
    "nbgrader": {
     "cell_type": "markdown",
     "checksum": "ce274fba78e3e3357be9555273c1c687",
     "grade": false,
     "grade_id": "cell-f54e6eff6b6f3732",
     "locked": true,
     "schema_version": 3,
     "solution": false
    }
   },
   "source": [
    "[Back to top](#Index:) \n",
    "\n",
    "### Problem 13: Measure of Center\n",
    "\n",
    "**2 Points**\n",
    "\n",
    "\n",
    "Determine the mean and median of the `Reflectance` column, save these to the variable `smolt_mean` and `smolt_median` below.  "
   ]
  },
  {
   "cell_type": "code",
   "execution_count": 41,
   "metadata": {
    "deletable": false,
    "nbgrader": {
     "cell_type": "code",
     "checksum": "e6992ae6b3484c35409b1f463e0b9294",
     "grade": false,
     "grade_id": "cell-85dd0d5626022c31",
     "locked": false,
     "schema_version": 3,
     "solution": true
    }
   },
   "outputs": [
    {
     "name": "stdout",
     "output_type": "stream",
     "text": [
      "50.8920722\n",
      "49.51086\n"
     ]
    }
   ],
   "source": [
    "###GRADED\n",
    "\n",
    "smolt_mean = ''\n",
    "smolt_median = ''\n",
    "\n",
    "# YOUR CODE HERE\n",
    "smolt_mean = smolt[\"Reflectance\"].mean()\n",
    "print(smolt_mean)\n",
    "smolt_median = smolt[\"Reflectance\"].median()\n",
    "print(smolt_median)"
   ]
  },
  {
   "cell_type": "code",
   "execution_count": null,
   "metadata": {
    "deletable": false,
    "editable": false,
    "nbgrader": {
     "cell_type": "code",
     "checksum": "93c120f38d65c18f841e68097a251eb9",
     "grade": true,
     "grade_id": "cell-a1c3bc9c23f0fad5",
     "locked": true,
     "points": 2,
     "schema_version": 3,
     "solution": false
    }
   },
   "outputs": [],
   "source": []
  },
  {
   "cell_type": "code",
   "execution_count": null,
   "metadata": {},
   "outputs": [],
   "source": []
  },
  {
   "cell_type": "code",
   "execution_count": null,
   "metadata": {},
   "outputs": [],
   "source": []
  }
 ],
 "metadata": {
  "kernelspec": {
   "display_name": "Python 3 (ipykernel)",
   "language": "python",
   "name": "python3"
  },
  "language_info": {
   "codemirror_mode": {
    "name": "ipython",
    "version": 3
   },
   "file_extension": ".py",
   "mimetype": "text/x-python",
   "name": "python",
   "nbconvert_exporter": "python",
   "pygments_lexer": "ipython3",
   "version": "3.12.8"
  },
  "widgets": {
   "application/vnd.jupyter.widget-state+json": {
    "state": {},
    "version_major": 2,
    "version_minor": 0
   }
  }
 },
 "nbformat": 4,
 "nbformat_minor": 4
}
